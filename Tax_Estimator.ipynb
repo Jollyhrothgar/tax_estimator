{
 "cells": [
  {
   "cell_type": "code",
   "execution_count": 1,
   "metadata": {
    "ExecuteTime": {
     "end_time": "2017-12-27T23:24:49.147077Z",
     "start_time": "2017-12-27T23:24:48.684951Z"
    }
   },
   "outputs": [],
   "source": [
    "%matplotlib inline\n",
    "import pandas as pd\n",
    "import numpy as np\n",
    "import matplotlib.pyplot as plt"
   ]
  },
  {
   "cell_type": "code",
   "execution_count": 2,
   "metadata": {
    "ExecuteTime": {
     "end_time": "2017-12-27T23:24:57.979551Z",
     "start_time": "2017-12-27T23:24:57.972226Z"
    }
   },
   "outputs": [],
   "source": [
    "brackets = pd.read_csv(\"./parsed_tax_brackets.csv\")"
   ]
  },
  {
   "cell_type": "code",
   "execution_count": 11,
   "metadata": {
    "ExecuteTime": {
     "end_time": "2017-12-27T23:40:36.730065Z",
     "start_time": "2017-12-27T23:40:36.724844Z"
    }
   },
   "outputs": [
    {
     "name": "stdout",
     "output_type": "stream",
     "text": [
      "81000\n"
     ]
    }
   ],
   "source": [
    "gross_total_income = 180000+180000*0.12+180000*0.06 \n",
    "gross_total_income = 81000\n",
    "filing_type = 'single'\n",
    "filing_year = 2017\n",
    "print(gross_total_income)"
   ]
  },
  {
   "cell_type": "code",
   "execution_count": 39,
   "metadata": {
    "ExecuteTime": {
     "end_time": "2017-12-28T00:05:03.901269Z",
     "start_time": "2017-12-28T00:05:03.888233Z"
    }
   },
   "outputs": [
    {
     "data": {
      "text/html": [
       "<div>\n",
       "<style scoped>\n",
       "    .dataframe tbody tr th:only-of-type {\n",
       "        vertical-align: middle;\n",
       "    }\n",
       "\n",
       "    .dataframe tbody tr th {\n",
       "        vertical-align: top;\n",
       "    }\n",
       "\n",
       "    .dataframe thead th {\n",
       "        text-align: right;\n",
       "    }\n",
       "</style>\n",
       "<table border=\"1\" class=\"dataframe\">\n",
       "  <thead>\n",
       "    <tr style=\"text-align: right;\">\n",
       "      <th></th>\n",
       "      <th>bracket_order</th>\n",
       "      <th>filing_type</th>\n",
       "      <th>year</th>\n",
       "      <th>rate</th>\n",
       "      <th>min_range</th>\n",
       "      <th>max_range</th>\n",
       "      <th>taxable_income</th>\n",
       "    </tr>\n",
       "  </thead>\n",
       "  <tbody>\n",
       "    <tr>\n",
       "      <th>7</th>\n",
       "      <td>0</td>\n",
       "      <td>single</td>\n",
       "      <td>2017</td>\n",
       "      <td>0.100</td>\n",
       "      <td>0.0</td>\n",
       "      <td>9525.0</td>\n",
       "      <td>9525.0</td>\n",
       "    </tr>\n",
       "    <tr>\n",
       "      <th>8</th>\n",
       "      <td>1</td>\n",
       "      <td>single</td>\n",
       "      <td>2017</td>\n",
       "      <td>0.150</td>\n",
       "      <td>9525.0</td>\n",
       "      <td>38700.0</td>\n",
       "      <td>29175.0</td>\n",
       "    </tr>\n",
       "    <tr>\n",
       "      <th>9</th>\n",
       "      <td>2</td>\n",
       "      <td>single</td>\n",
       "      <td>2017</td>\n",
       "      <td>0.250</td>\n",
       "      <td>38700.0</td>\n",
       "      <td>82500.0</td>\n",
       "      <td>43800.0</td>\n",
       "    </tr>\n",
       "    <tr>\n",
       "      <th>10</th>\n",
       "      <td>3</td>\n",
       "      <td>single</td>\n",
       "      <td>2017</td>\n",
       "      <td>0.280</td>\n",
       "      <td>82500.0</td>\n",
       "      <td>157500.0</td>\n",
       "      <td>75000.0</td>\n",
       "    </tr>\n",
       "    <tr>\n",
       "      <th>11</th>\n",
       "      <td>4</td>\n",
       "      <td>single</td>\n",
       "      <td>2017</td>\n",
       "      <td>0.330</td>\n",
       "      <td>157500.0</td>\n",
       "      <td>200000.0</td>\n",
       "      <td>42500.0</td>\n",
       "    </tr>\n",
       "    <tr>\n",
       "      <th>12</th>\n",
       "      <td>5</td>\n",
       "      <td>single</td>\n",
       "      <td>2017</td>\n",
       "      <td>0.340</td>\n",
       "      <td>200000.0</td>\n",
       "      <td>500000.0</td>\n",
       "      <td>300000.0</td>\n",
       "    </tr>\n",
       "    <tr>\n",
       "      <th>13</th>\n",
       "      <td>6</td>\n",
       "      <td>single</td>\n",
       "      <td>2017</td>\n",
       "      <td>0.396</td>\n",
       "      <td>500000.0</td>\n",
       "      <td>500000.0</td>\n",
       "      <td>0.0</td>\n",
       "    </tr>\n",
       "  </tbody>\n",
       "</table>\n",
       "</div>"
      ],
      "text/plain": [
       "    bracket_order filing_type  year   rate  min_range  max_range  \\\n",
       "7               0      single  2017  0.100        0.0     9525.0   \n",
       "8               1      single  2017  0.150     9525.0    38700.0   \n",
       "9               2      single  2017  0.250    38700.0    82500.0   \n",
       "10              3      single  2017  0.280    82500.0   157500.0   \n",
       "11              4      single  2017  0.330   157500.0   200000.0   \n",
       "12              5      single  2017  0.340   200000.0   500000.0   \n",
       "13              6      single  2017  0.396   500000.0   500000.0   \n",
       "\n",
       "    taxable_income  \n",
       "7           9525.0  \n",
       "8          29175.0  \n",
       "9          43800.0  \n",
       "10         75000.0  \n",
       "11         42500.0  \n",
       "12        300000.0  \n",
       "13             0.0  "
      ]
     },
     "execution_count": 39,
     "metadata": {},
     "output_type": "execute_result"
    }
   ],
   "source": [
    "tax_brackets"
   ]
  },
  {
   "cell_type": "code",
   "execution_count": 44,
   "metadata": {
    "ExecuteTime": {
     "end_time": "2017-12-28T00:06:37.374194Z",
     "start_time": "2017-12-28T00:06:37.330018Z"
    }
   },
   "outputs": [],
   "source": [
    "def get_federal_taxes(gross_total_income, filing_type, year):\n",
    "    global brackets\n",
    "    \n",
    "    tax_brackets = brackets[\n",
    "        (brackets['filing_type'] == filing_type) & \n",
    "        (brackets['year'] == year) \n",
    "        ].copy()\n",
    "    \n",
    "    taxes = 0\n",
    "    taxable_income = gross_total_income\n",
    "    tax_brackets.sort_values(by='bracket_order', inplace=True)\n",
    "    test = gross_total_income\n",
    "    last_bracket = False\n",
    "    last_bracket_number = 0\n",
    "\n",
    "    for index, row in tax_brackets.iterrows():\n",
    "\n",
    "        # Max bracket (congrats, you're rich!)\n",
    "        if row['taxable_income'] == 0:\n",
    "            taxes += taxable_income * row['rate']\n",
    "            last_bracket_number = row['bracket_order']\n",
    "\n",
    "        # remainder taxes\n",
    "        elif taxable_income - row['taxable_income'] <= 0: \n",
    "            last_bracket = True\n",
    "            taxes += row['rate'] * taxable_income\n",
    "            last_bracket_number = row['bracket_order']\n",
    "            break\n",
    "\n",
    "        # regular taxes\n",
    "        else:\n",
    "            taxable_income -= row['taxable_income']\n",
    "            taxes += row['taxable_income'] * row['rate']\n",
    "\n",
    "    return taxes, last_bracket_number"
   ]
  },
  {
   "cell_type": "code",
   "execution_count": 45,
   "metadata": {
    "ExecuteTime": {
     "end_time": "2017-12-28T00:06:43.966137Z",
     "start_time": "2017-12-28T00:06:43.962686Z"
    }
   },
   "outputs": [],
   "source": [
    "income = pd.DataFrame(pd.Series(data=np.linspace(start=0, stop=1000000, num=1000)), columns=['gross_income'])"
   ]
  },
  {
   "cell_type": "code",
   "execution_count": 48,
   "metadata": {
    "ExecuteTime": {
     "end_time": "2017-12-28T00:08:53.463348Z",
     "start_time": "2017-12-28T00:08:46.195956Z"
    }
   },
   "outputs": [],
   "source": [
    "income['filing_single_2017'] = income['gross_income'].apply(lambda x:get_federal_taxes(x, filing_type='single', year=2017)[0])\n",
    "income['filing_single_2018'] = income['gross_income'].apply(lambda x:get_federal_taxes(x, filing_type='single', year=2018)[0])\n",
    "income['filing_joint_2017'] = income['gross_income'].apply(lambda x:get_federal_taxes(x, filing_type='joint', year=2017)[0])\n",
    "income['filing_joint_2018'] = income['gross_income'].apply(lambda x:get_federal_taxes(x, filing_type='joint', year=2018)[0])\n",
    "income['effective_rate_single_2017'] = income['filing_single_2017'] / income['gross_income']\n",
    "income['effective_rate_single_2018'] = income['filing_single_2018'] / income['gross_income']\n",
    "income['effective_rate_joint_2017'] = income['filing_joint_2017'] / income['gross_income']\n",
    "income['effective_rate_joint_2018'] = income['filing_joint_2018'] / income['gross_income']"
   ]
  },
  {
   "cell_type": "code",
   "execution_count": 54,
   "metadata": {
    "ExecuteTime": {
     "end_time": "2017-12-28T00:12:46.323409Z",
     "start_time": "2017-12-28T00:12:45.931369Z"
    }
   },
   "outputs": [
    {
     "data": {
      "text/plain": [
       "<matplotlib.axes._subplots.AxesSubplot at 0x11615d860>"
      ]
     },
     "execution_count": 54,
     "metadata": {},
     "output_type": "execute_result"
    },
    {
     "data": {
      "image/png": "[encoded data removed]",
      "text/plain": [
       "<matplotlib.figure.Figure at 0x11616f320>"
      ]
     },
     "metadata": {},
     "output_type": "display_data"
    }
   ],
   "source": [
    "fig, ax = plt.subplots(figsize=(15,10))\n",
    "income.plot(kind='scatter', x='gross_income', y='effective_rate_single_2017', color='blue', label='Single Tax Rate 2017', ax=ax)\n",
    "income.plot(kind='scatter', x='gross_income', y='effective_rate_single_2018', color='green', label='Single Tax Rate 2018', ax=ax)\n",
    "income.plot(kind='scatter', x='gross_income', y='effective_rate_joint_2017' , color='purple', label='Joint Tax Rate 2017', ax=ax)\n",
    "income.plot(kind='scatter', x='gross_income', y='effective_rate_joint_2018' , color='red', label='Joint Tax Rate 2018', ax=ax)"
   ]
  },
  {
   "cell_type": "code",
   "execution_count": null,
   "metadata": {},
   "outputs": [],
   "source": []
  }
 ],
 "metadata": {
  "hide_input": false,
  "kernelspec": {
   "display_name": "Python 3",
   "language": "python",
   "name": "python3"
  },
  "language_info": {
   "codemirror_mode": {
    "name": "ipython",
    "version": 3
   },
   "file_extension": ".py",
   "mimetype": "text/x-python",
   "name": "python",
   "nbconvert_exporter": "python",
   "pygments_lexer": "ipython3",
   "version": "3.6.3"
  },
  "toc": {
   "nav_menu": {},
   "number_sections": true,
   "sideBar": true,
   "skip_h1_title": false,
   "toc_cell": false,
   "toc_position": {},
   "toc_section_display": "block",
   "toc_window_display": false
  }
 },
 "nbformat": 4,
 "nbformat_minor": 2
}
